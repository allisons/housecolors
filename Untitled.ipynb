{
 "cells": [
  {
   "cell_type": "code",
   "execution_count": 1,
   "metadata": {},
   "outputs": [],
   "source": [
    "with open(\"environment.yml\") as fileobj:\n",
    "    env = fileobj.read()"
   ]
  },
  {
   "cell_type": "code",
   "execution_count": 11,
   "metadata": {},
   "outputs": [
    {
     "data": {
      "text/plain": [
       "'name: colormath\\nchannels:\\n  - conda-forge\\n  - defaults\\ndependencies:\\n  - attrs\\n  - backcall\\n  - backports\\n  - backports.functools_lru_cache\\n  - blas\\n  - bleach\\n  - ca-certificates\\n  - certifi\\n  - colorama\\n  - colormath\\n  - colour\\n  - cycler\\n  - decorator\\n  - defusedxml\\n  - entrypoints\\n  - et_xmlfile\\n  - freetype\\n  - icc_rt\\n  - icu\\n  - imageio\\n  - importlib-metadata\\n  - intel-openmp\\n  - ipykernel\\n  - ipython\\n  - ipython_genutils\\n  - jdcal\\n  - jedi\\n  - jinja2\\n  - joblib\\n  - jpeg\\n  - jsonschema\\n  - jupyter_client\\n  - jupyter_core\\n  - kiwisolver\\n  - lcms2\\n  - libiconv\\n  - libpng\\n  - libsodium\\n  - libtiff\\n  - libxml2\\n  - libxslt\\n  - lxml\\n  - lz4-c\\n  - markupsafe\\n  - matplotlib\\n  - matplotlib-base\\n  - mistune\\n  - mkl\\n  - mkl-service\\n  - mkl_fft\\n  - mkl_random\\n  - nbconvert\\n  - nbformat\\n  - networkx\\n  - numpy\\n  - numpy-base\\n  - olefile\\n  - openpyxl\\n  - openssl\\n  - packaging\\n  - pandas\\n  - pandoc\\n  - pandocfilters\\n  - parso\\n  - patsy\\n  - pickleshare\\n  - pillow\\n  - pip\\n  - prompt-toolkit\\n  - pygments\\n  - pyparsing\\n  - pypdf2\\n  - pyqt\\n  - pyrsistent\\n  - python\\n  - python-dateutil\\n  - python_abi\\n  - pytz\\n  - pywin32\\n  - pyzmq\\n  - qt\\n  - scikit-learn\\n  - scipy\\n  - seaborn\\n  - seaborn-base\\n  - setuptools\\n  - sip\\n  - six\\n  - sqlite\\n  - statsmodels\\n  - testpath\\n  - threadpoolctl\\n  - tk\\n  - tornado\\n  - traitlets\\n  - typing_extensions\\n  - vc\\n  - vs2015_runtime\\n  - wcwidth\\n  - webencodings\\n  - wheel\\n  - wincertstore\\n  - xlrd\\n  - xz\\n  - zeromq\\n  - zipp\\n  - zlib\\n  - zstd\\nprefix: C:\\\\Users\\\\asliter\\\\AppData\\\\Local\\\\Continuum\\\\anaconda3\\\\envs\\\\colormath\\n\\n'"
      ]
     },
     "execution_count": 11,
     "metadata": {},
     "output_type": "execute_result"
    }
   ],
   "source": [
    "newenv = []\n",
    "for line in env.split(\"\\n\"):\n",
    "    splits = line.split(\"=\")\n",
    "    newenv.append(splits[0])\n",
    "print(\"\\n\".join(newenv)"
   ]
  },
  {
   "cell_type": "code",
   "execution_count": null,
   "metadata": {},
   "outputs": [],
   "source": []
  }
 ],
 "metadata": {
  "kernelspec": {
   "display_name": "Python [conda env:colormath]",
   "language": "python",
   "name": "conda-env-colormath-py"
  },
  "language_info": {
   "codemirror_mode": {
    "name": "ipython",
    "version": 3
   },
   "file_extension": ".py",
   "mimetype": "text/x-python",
   "name": "python",
   "nbconvert_exporter": "python",
   "pygments_lexer": "ipython3",
   "version": "3.7.10"
  }
 },
 "nbformat": 4,
 "nbformat_minor": 4
}
